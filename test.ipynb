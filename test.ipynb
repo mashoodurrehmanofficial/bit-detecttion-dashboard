{
 "cells": [
  {
   "cell_type": "code",
   "execution_count": 2,
   "metadata": {},
   "outputs": [],
   "source": [
    "import pandas as pd\n",
    "from datetime import datetime\n",
    "import plotly.graph_objects as go\n",
    "from urllib.parse import urlparse\n",
    "import sqlite3,time\n",
    "def dict_factory(cursor, row):\n",
    "    d = {}\n",
    "    for idx, col in enumerate(cursor.description):\n",
    "        d[col[0]] = row[idx]\n",
    "    return d"
   ]
  },
  {
   "cell_type": "code",
   "execution_count": 3,
   "metadata": {},
   "outputs": [],
   "source": [
    "sql_data = 'database.db'\n",
    "conn = sqlite3.connect(sql_data)\n",
    "conn.row_factory = dict_factory"
   ]
  },
  {
   "cell_type": "code",
   "execution_count": 4,
   "metadata": {},
   "outputs": [
    {
     "name": "stdout",
     "output_type": "stream",
     "text": [
      "['3blue']\n"
     ]
    }
   ],
   "source": [
    "query =\"\"\"SELECT `javascript.enabled`, `document.referrer`, validity, `server.country`, `server.useragent.info`, `server.region`, `var.ClientID` FROM sample_sql_db\"\"\"\n",
    "\n",
    "records = conn.execute(query).fetchall()\n",
    "\n",
    "\n",
    "ids = list(set([x['var.ClientID'] for x in records ]))\n",
    "\n",
    "print(ids)\n"
   ]
  },
  {
   "cell_type": "code",
   "execution_count": 18,
   "metadata": {},
   "outputs": [
    {
     "name": "stdout",
     "output_type": "stream",
     "text": [
      "Preparing DF for  3blue\n"
     ]
    },
    {
     "data": {
      "text/plain": [
       "(4477, 7)"
      ]
     },
     "execution_count": 18,
     "metadata": {},
     "output_type": "execute_result"
    }
   ],
   "source": [
    "def prepareDataframe(start_date, end_date, client_id='3blue'):\n",
    "\n",
    "    print(\"Preparing DF for \", client_id)\n",
    "    query =\"\"\"SELECT `javascript.enabled`, `document.referrer`, validity, `server.country`, `server.useragent.info`, `server.region`, count(id) as visits FROM sample_sql_db\n",
    "    WHERE `pixel.timestamp` > {}\n",
    "    AND `pixel.timestamp` < {}\n",
    "    AND `var.ClientID` = '{}'\n",
    "    GROUP BY `javascript.enabled`, `document.referrer`, validity, `server.country`, `server.useragent.info`, `server.region`\n",
    "    ORDER BY visits DESC\"\"\".format(start_date, end_date, client_id)\n",
    "    records = conn.execute(query).fetchall()\n",
    "\n",
    "    columns = ['javascript.enabled','document.referrer','validity','server.country','server.useragent.info','server.region','visits']\n",
    "    df = pd.DataFrame(data=[x.values() for x in records],columns=columns)\n",
    "\n",
    "    df['document.referrer'] = df['document.referrer'].astype(str)\n",
    "    df['javascript.enabled'] = df['javascript.enabled'].astype(str)\n",
    "    return df\n",
    "\n",
    "start_date = time.mktime(datetime.strptime(\"2022-04-01\", \"%Y-%m-%d\").timetuple())\n",
    "end_date = time.mktime(datetime.strptime(\"2022-04-25\", \"%Y-%m-%d\").timetuple())\n",
    "client_id = '3blue' \n",
    "\n",
    "\n",
    "df = prepareDataframe(start_date, end_date, client_id)\n",
    "\n",
    "\n",
    "df.shape\n"
   ]
  },
  {
   "cell_type": "code",
   "execution_count": 26,
   "metadata": {},
   "outputs": [
    {
     "data": {
      "text/plain": [
       "['https://fizzsy.com/monitordt3.php?i=zNT1_8280---8ea64ec7&url=https%3A%2F%2Ffizzsy.com%2Fnothing-improves-a-day-like-cheesy-garlic-bread%2F&sb_url=https%3A%2F%2Ffizzsy.com%2Fsidebar-elements-2%2F',\n",
       " 'https://fizzsy.com/monitordt3.php?i=zbru1_4b44330b-8626-4d3b-97ac-3b9ece3cc143-futuresmodel.com&url=https%3A%2F%2Ffizzsy.com%2Fnothing-improves-a-day-like-cheesy-garlic-bread%2F&sb_url=https%3A%2F%2Ffizzsy.com%2Fsidebar-elements-2%2F',\n",
       " 'http://syn.entertainow.com/feed?type=email&c=KHWOapSM1Cmzmiee&f=NalYczz99RoqOKgh&ch=88efefdd-a127-43d4-800b-f603b3258115&source=A1&uid=44146942&sig=029bea66a0bc121efc312b93e048ce7cd88f921e&ts=1649881574&clientSig=9fd1a182a030797750c58e6c344b5753',\n",
       " 'https://fizzsy.com/monitordt3.php?i=zCat_1&url=https%3A%2F%2Ffizzsy.com%2Fnothing-improves-a-day-like-cheesy-garlic-bread%2F&sb_url=https%3A%2F%2Ffizzsy.com%2Fsidebar-elements-2%2F',\n",
       " 'https://fizzsy.com/cooking-together/',\n",
       " 'https://fizzsy.com/monitordt3.php?i=zbru1_7df60840-f94d-4692-acc3-2c864b7f390d-chess.com&url=https%3A%2F%2Ffizzsy.com%2Fnothing-improves-a-day-like-cheesy-garlic-bread%2F&sb_url=https%3A%2F%2Ffizzsy.com%2Fsidebar-elements-2%2F',\n",
       " 'https://fizzsy.com/better-com-fires-another-3000-employees/',\n",
       " 'https://fizzsy.com/monitordt3.php?i=p3w_rotH&url=https%3A%2F%2Ffizzsy.com%2Fnothing-improves-a-day-like-cheesy-garlic-bread%2F&sb_url=https%3A%2F%2Ffizzsy.com%2Fsidebar-elements-2%2F',\n",
       " 'None',\n",
       " 'https://fizzsy.com/nothing-improves-a-day-like-cheesy-garlic-bread/',\n",
       " 'https://fizzsy.com/monitordt3.php?i=p3w_rotY&url=https%3A%2F%2Ffizzsy.com%2Fnothing-improves-a-day-like-cheesy-garlic-bread%2F&sb_url=https%3A%2F%2Ffizzsy.com%2Fsidebar-elements-2%2F',\n",
       " 'https://fizzsy.com/monitordt3.php?i=p3w_rotYMG&url=https%3A%2F%2Ffizzsy.com%2Fnothing-improves-a-day-like-cheesy-garlic-bread%2F&sb_url=https%3A%2F%2Ffizzsy.com%2Fsidebar-elements-2%2F',\n",
       " 'https://fizzsy.com/monitordt3.php?i=zbru1_5fea13f9-fcd1-46a0-81ec-ae07f24fa821-click.junmediadirect.com&url=https%3A%2F%2Ffizzsy.com%2Fnothing-improves-a-day-like-cheesy-garlic-bread%2F&sb_url=https%3A%2F%2Ffizzsy.com%2Fsidebar-elements-2%2F']"
      ]
     },
     "execution_count": 26,
     "metadata": {},
     "output_type": "execute_result"
    }
   ],
   "source": [
    "list(set([x for x in list(set(df['document.referrer'].values.tolist())) ]))\n",
    "\n",
    "\n",
    "# set([x for x in df['javascript.enabled']])\n",
    "# set([x for x in df['document.referrer']])\n",
    "# "
   ]
  },
  {
   "cell_type": "code",
   "execution_count": null,
   "metadata": {},
   "outputs": [],
   "source": [
    "# df = pd.read_csv(\"data.csv\") \n",
    "df = pd.read_excel(open('data.xlsx','rb'), sheet_name='Sheet1')\n",
    "\n",
    "# with pd.ExcelFile(\"data.xlsx\") as reader:\n",
    "#     df = pd.read_excel(reader, sheet_name='Sheet1')\n",
    "\n"
   ]
  },
  {
   "cell_type": "code",
   "execution_count": 53,
   "metadata": {},
   "outputs": [
    {
     "name": "stdout",
     "output_type": "stream",
     "text": [
      "(0, 7)\n"
     ]
    },
    {
     "data": {
      "text/plain": [
       "{'thead': ['Bot Source', 'Site Visitors', '% Humans', '% Bots'],\n",
       " 'tbody': [['Unknown', 32347, 0.0, 8.39, 91.61],\n",
       "  ['Direct', 14605, 88.24, 11.76, 0.0],\n",
       "  ['Social', 2, 100.0, 0.0, 0.0],\n",
       "  ['Display', 0, 0, 0, 0],\n",
       "  ['Search', 0, 0, 0, 0]],\n",
       " 'filters': ['Direct', 'Search', 'Social', 'Display', 'Unknown'],\n",
       " 'dropdown_id': 'bot_sources_dropdown',\n",
       " 'table_id': 'bot_sources',\n",
       " 'title': 'Bot Sources'}"
      ]
     },
     "execution_count": 53,
     "metadata": {},
     "output_type": "execute_result"
    }
   ],
   "source": [
    "\n",
    "def getBotSourceDataTable():\n",
    "    alphabetical = ['Direct', 'Search', 'Social',  'Display' , 'Unknown']\n",
    "    tbody = []\n",
    "    local_df = df\n",
    "    temp_df = local_df[(local_df['javascript.enabled'] == '1') |  (local_df['javascript.enabled'] == \"true\")]\n",
    "    y =  temp_df[  temp_df[\"document.referrer\"].str.contains(\"site-tracking.com|fisszy|\")]\n",
    "  \n",
    "    print(y.shape)\n",
    "    \n",
    "    \n",
    "    for index,source in enumerate(alphabetical[:]):\n",
    "        \n",
    "    #     # Direct\n",
    "        if index==0:\n",
    "            temp_df2 = temp_df[  (temp_df['document.referrer'] == 'None') ]\n",
    "        elif index==1:\n",
    "            temp_df2 = temp_df[  temp_df[\"document.referrer\"].str.contains(\"baidu|google|bing|duckduckgo\")    ]\n",
    "        elif index==2:\n",
    "            temp_df2 = temp_df[  temp_df[\"document.referrer\"].str.contains(\"baidu|google|facebook|t.co\")    ]\n",
    "        elif index==3:\n",
    "            temp_df2 = temp_df[  temp_df[\"document.referrer\"].str.contains(\"site-tracking.com|fisszy\")    ]\n",
    "            \n",
    "        elif index==4:\n",
    "            temp_df2 = local_df[  (local_df['javascript.enabled'] == 'None') ]\n",
    "       \n",
    "       \n",
    "            \n",
    "            \n",
    "            \n",
    "            \n",
    "        total_rows = temp_df2['visits'].sum()\n",
    "        if total_rows>0:\n",
    "            humans = round(temp_df2[(temp_df2['validity']=='valid')]['visits'].sum() / total_rows * 100,2)\n",
    "            bots = round(temp_df2[(temp_df2['validity']=='invalid') | (temp_df2['validity']=='suspicious')]['visits'].sum() / total_rows * 100,2)\n",
    "            unknown = round(temp_df2[(temp_df2['validity']=='unknown')]['visits'].sum() / total_rows * 100,2)\n",
    "        else:\n",
    "            humans = 0\n",
    "            bots = 0\n",
    "            unknown = 0\n",
    "            \n",
    "        tbody.append([\n",
    "            source, total_rows , humans, bots , unknown\n",
    "        ])\n",
    "    tbody = sorted(tbody, key=lambda x: x[1])[::-1]\n",
    "    \n",
    "    return {\n",
    "        \"thead\": [\"Bot Source\", \"Site Visitors\", \"% Humans\", \"% Bots\"],\n",
    "        \"tbody\": tbody,\n",
    "        \"filters\": alphabetical,\n",
    "        \"dropdown_id\":\"bot_sources_dropdown\",\n",
    "        \"table_id\":\"bot_sources\",\n",
    "        \"title\":\"Bot Sources\",\n",
    "        \n",
    "    } \n",
    "            \n",
    "            \n",
    "    \n",
    "    \n",
    "\n",
    "res = getBotSourceDataTable()\n",
    "\n",
    "\n",
    "\n",
    "res"
   ]
  },
  {
   "cell_type": "code",
   "execution_count": 19,
   "metadata": {},
   "outputs": [
    {
     "data": {
      "text/plain": [
       "{'thead': ['Bot Source', 'Site Visitors', '% Humans', '% Bots'],\n",
       " 'tbody': [['Fizzsy', 83549, 88.89, 11.11, 0.0],\n",
       "  ['Syn.entertainow', 1, 0.0, 100.0, 0.0]],\n",
       " 'filters': ['Fizzsy', 'Syn.entertainow'],\n",
       " 'dropdown_id': 'domain_performance_dropdown',\n",
       " 'title': 'Domain / Platform Reporting',\n",
       " 'table_id': 'domain_performance'}"
      ]
     },
     "execution_count": 19,
     "metadata": {},
     "output_type": "execute_result"
    }
   ],
   "source": [
    "def getDomainDataTabel(): \n",
    "    alphabetical =  list(set(df['document.referrer'].values.tolist()))\n",
    "    alphabetical = [x for x in alphabetical if x]\n",
    "    alphabetical = list(set([urlparse(x).netloc.replace(\".com\",\"\").replace(\"www.\",\"\").capitalize() for x in alphabetical]))\n",
    "    alphabetical = [x for x in alphabetical if x] \n",
    "    \n",
    "    tbody = []\n",
    "    for index,source in enumerate(alphabetical[:]):\n",
    "        temp_df = df[  df[\"document.referrer\"].str.contains(source.lower(), na=False)   ]\n",
    "        \n",
    "        total_rows = temp_df['visits'].sum()\n",
    "        if total_rows>0:\n",
    "            humans = round(temp_df[(temp_df['validity']=='valid')]['visits'].sum() / total_rows * 100,2)\n",
    "            bots = round(temp_df[(temp_df['validity']=='invalid') | (temp_df['validity']=='suspicious')]['visits'].sum() / total_rows * 100,2)\n",
    "            unknown = round(temp_df[(temp_df['validity']=='unknown')]['visits'].sum() / total_rows * 100,2)\n",
    "        else:\n",
    "            humans = 0\n",
    "            bots = 0\n",
    "            unknown = 0\n",
    "            \n",
    "        tbody.append([\n",
    "            source, total_rows , humans, bots , unknown\n",
    "        ])\n",
    "        \n",
    "    tbody = sorted(tbody, key=lambda x: x[1])[::-1]\n",
    "    return {\n",
    "        \"thead\": [\"Bot Source\", \"Site Visitors\", \"% Humans\", \"% Bots\"],\n",
    "        \"tbody\": tbody,\n",
    "        \"filters\": alphabetical,\n",
    "        \"dropdown_id\":\"domain_performance_dropdown\",\n",
    "        \"title\":\"Domain / Platform Reporting\",\n",
    "        \"table_id\":\"domain_performance\",\n",
    "        \n",
    "    } \n",
    "    \n",
    "getDomainDataTabel()"
   ]
  },
  {
   "cell_type": "code",
   "execution_count": 11,
   "metadata": {},
   "outputs": [
    {
     "name": "stdout",
     "output_type": "stream",
     "text": [
      "[]\n"
     ]
    },
    {
     "data": {
      "text/plain": [
       "{'thead': ['Bot Source', 'Site Visitors', '% Humans', '% Bots'],\n",
       " 'tbody': [],\n",
       " 'filters': [],\n",
       " 'dropdown_id': 'country_data_table_dropdown',\n",
       " 'title': 'Country Bots',\n",
       " 'table_id': 'country_data_table'}"
      ]
     },
     "execution_count": 11,
     "metadata": {},
     "output_type": "execute_result"
    }
   ],
   "source": [
    "def getCountryDataTable():\n",
    "    alphabetical =  list(set(df['server.country'].values.tolist()))\n",
    "    alphabetical = [x for x in alphabetical if not str(x)=='[NULL]'  and type(x) is str] \n",
    "    print(alphabetical)\n",
    "    tbody = []\n",
    "    for index,source in enumerate(alphabetical[:]):\n",
    "        temp_df = df[  (df['server.country'] ==  str(source) ) ]\n",
    "        total_rows = temp_df['visits'].sum() \n",
    "        \n",
    "        if total_rows>0:\n",
    "            humans = round(temp_df[(temp_df['validity']=='valid')]['visits'].sum() / total_rows * 100,2)\n",
    "            bots = round(temp_df[(temp_df['validity']=='invalid') | (temp_df['validity']=='suspicious')]['visits'].sum() / total_rows * 100,2)\n",
    "            unknown = round(temp_df[(temp_df['validity']=='unknown')]['visits'].sum() / total_rows * 100,2)\n",
    "        else:\n",
    "            humans = 0\n",
    "            bots = 0\n",
    "            unknown = 0\n",
    "        \n",
    "        if type(source) is str: \n",
    "            tbody.append([\n",
    "                source, total_rows , humans, bots , unknown, {\"show\":True}\n",
    "            ])\n",
    "         \n",
    "        \n",
    "    tbody = sorted(tbody, key=lambda x: x[1])[::-1]\n",
    "    return {\n",
    "        \"thead\": [\"Bot Source\", \"Site Visitors\", \"% Humans\", \"% Bots\"],\n",
    "        \"tbody\": tbody,\n",
    "        \"filters\": alphabetical,\n",
    "        \"dropdown_id\":\"country_data_table_dropdown\",\n",
    "        \"title\":\"Country Bots\",\n",
    "        \"table_id\":\"country_data_table\",\n",
    "    } \n",
    "    \n",
    "res = getCountryDataTable()\n",
    "\n",
    "res"
   ]
  },
  {
   "cell_type": "code",
   "execution_count": 93,
   "metadata": {},
   "outputs": [
    {
     "name": "stdout",
     "output_type": "stream",
     "text": [
      "Valid =  5831\n",
      "bots -  4.24\n",
      "malicious_bots -  99.91\n",
      "friendly_bots -  0.29\n"
     ]
    },
    {
     "data": {
      "text/plain": [
       "{'total_site_users': 8000,\n",
       " 'humans': 72.89,\n",
       " 'friendly_bots': 0.29,\n",
       " 'malicious_bots': 99.91,\n",
       " 'bots': 4.24}"
      ]
     },
     "execution_count": 93,
     "metadata": {},
     "output_type": "execute_result"
    }
   ],
   "source": [
    "def getStatBarData():\n",
    "    temp_df = df \n",
    "    total_site_users = temp_df['visits'].sum()\n",
    "    humans = round(temp_df[(temp_df['validity']=='valid')]['visits'].sum()/total_site_users*100,2  ) \n",
    "    print(\"Valid = \", temp_df[(temp_df['validity']=='valid')]['visits'].sum())\n",
    "    invalid_bots = temp_df[temp_df[\"validity\"].str.contains(\"invalid\")]['visits'].sum()\n",
    "    total_bots = temp_df[temp_df[\"validity\"].str.contains(\"invalid\")]['visits'].sum()\n",
    "    friendly_bots = temp_df[temp_df[\"server.useragent.info\"].str.contains(\"bot\") & temp_df[\"server.useragent.info\"].str.contains(\"Googlebot|BingBot|yandex|archive.org\") ].shape[0]\n",
    "    friendly_bots = round(friendly_bots/total_bots*100 ,2)\n",
    "    malicious_bots = invalid_bots - friendly_bots\n",
    "    malicious_bots = round(malicious_bots/total_bots*100,2)\n",
    "    bots = round(total_bots/total_site_users*100,2)\n",
    "\n",
    "    \n",
    "    print(\"bots - \",bots )\n",
    "    print(\"malicious_bots - \",malicious_bots )\n",
    "    print(\"friendly_bots - \",friendly_bots )\n",
    "    \n",
    "    return {\n",
    "        \"total_site_users\":total_site_users,\n",
    "        \"humans\":humans,\n",
    "        \"friendly_bots\":friendly_bots,\n",
    "        \"malicious_bots\":malicious_bots,\n",
    "        \"bots\":bots,\n",
    "    }\n",
    "    \n",
    "    \n",
    " \n",
    "    \n",
    "getStatBarData()"
   ]
  },
  {
   "cell_type": "code",
   "execution_count": 88,
   "metadata": {},
   "outputs": [],
   "source": [
    "def getMapData():\n",
    "    temp_df = df[  (df['server.country'] == 'United States') ]\n",
    "    total_rows = temp_df['visits'].sum()\n",
    " \n",
    "    states = temp_df['server.region'].values.tolist()\n",
    "    states = list(set([x for x in states if str(x) not in  ['[NULL]', 'nan','NULL','NONE'] ]))\n",
    "    states = [x for x in states if x]\n",
    "    \n",
    "    \n",
    "    stateDictionary =  {\"Alaska\" : \"AK\", \"Alabama\" : \"AL\", \"Arkansas\" : \"AR\", \"American Samoa\" : \"AS\", \"Arizona\" : \"AZ\", \"California\" : \"CA\", \"Colorado\" : \"CO\", \"Connecticut\" : \"CT\", \"District of Columbia\" : \"DC\", \"Delaware\" : \"DE\", \"Florida\" : \"FL\", \"Georgia\" : \"GA\", \"Guam\" : \"GU\", \"Hawaii\" : \"HI\", \"Iowa\" : \"IA\", \"Idaho\" : \"ID\", \"Illinois\" : \"IL\", \"Indiana\" : \"IN\", \"Kansas\" : \"KS\", \"Kentucky\" : \"KY\", \"Louisiana\" : \"LA\", \"Massachusetts\" : \"MA\", \"Maryland\" : \"MD\", \"Maine\" : \"ME\", \"Michigan\" : \"MI\", \"Minnesota\" : \"MN\", \"Missouri\" : \"MO\", \"Mississippi\" : \"MS\", \"Montana\" : \"MT\", \"North Carolina\" : \"NC\", \"North Dakota\" : \"ND\", \"Nebraska\" : \"NE\", \"New Hampshire\" : \"NH\", \"New Jersey\" : \"NJ\", \"New Mexico\" : \"NM\", \"Nevada\" : \"NV\", \"New York\" : \"NY\", \"Ohio\" : \"OH\", \"Oklahoma\" : \"OK\", \"Oregon\" : \"OR\", \"Pennsylvania\" : \"PA\", \"Puerto Rico\" : \"PR\", \"Rhode Island\" : \"RI\", \"South Carolina\" : \"SC\", \"South Dakota\" : \"SD\", \"Tennessee\" : \"TN\", \"Texas\" : \"TX\", \"Utah\" : \"UT\", \"Virginia\" : \"VA\", \"Virgin Islands\" : \"VI\", \"Vermont\" : \"VT\", \"Washington\" : \"WA\", \"Wisconsin\" : \"WI\", \"West Virginia\" : \"WV\", \"Wyoming\" : \"WY\"}\n",
    "    \n",
    "    density = []\n",
    "    total_site_users_list = []\n",
    "    percentage_bots = []\n",
    "    percentage_humans = []\n",
    "    percentage_friendly_bots = []\n",
    "    percentage_malicious_bots = []\n",
    "    for state in states:\n",
    "        local = df[(df['server.region'] ==state)]\n",
    "        bots = local[local[\"validity\"].str.contains(\"invalid\")]['visits'].sum()\n",
    "        \n",
    "        if bots>0:\n",
    "            bots = round(bots/local['visits'].sum() *100,2)\n",
    "        density.append(bots)    \n",
    "        temp_df2 = df[  (df['server.region'] == state) ] \n",
    "        total_site_users = temp_df2['visits'].sum() \n",
    "        if total_site_users>0:\n",
    "            humans = round(temp_df2[(temp_df2['validity']=='valid')]['visits'].sum()/total_site_users*100,2  ) \n",
    "        else:\n",
    "            humans=0\n",
    "        invalid_bots = temp_df2[temp_df2[\"validity\"].str.contains(\"invalid\")]['visits'].sum()\n",
    "        total_bots = temp_df2[temp_df2[\"validity\"].str.contains(\"invalid\")]['visits'].sum() \n",
    "        friendly_bots = temp_df2[temp_df2[\"server.useragent.info\"].str.contains(\"bot\") & temp_df2[\"server.useragent.info\"].str.contains(\"Googlebot|BingBot|yandex|archive.org\") ].shape[0]\n",
    "        if total_bots>0:\n",
    "            friendly_bots = round(friendly_bots/total_bots*100 ,2)\n",
    "            malicious_bots = invalid_bots - friendly_bots\n",
    "            malicious_bots = round(malicious_bots/total_bots*100,2)\n",
    "            bots = round(total_bots/total_site_users*100,2)\n",
    "        else:\n",
    "            friendly_bots = 0\n",
    "            malicious_bots = 0\n",
    "            malicious_bots = 0\n",
    "            bots = 0\n",
    "        \n",
    "        total_site_users_list.append(total_site_users)\n",
    "        percentage_bots.append(bots)\n",
    "        percentage_humans.append(humans)\n",
    "        percentage_friendly_bots.append(friendly_bots)\n",
    "        percentage_malicious_bots.append(malicious_bots)\n",
    "        \n",
    "        \n",
    "    states = [stateDictionary[x] for x in states]\n",
    "    density = [100 if x>10 else 0 for x in density]\n",
    "    percentage_malicious_bots = [x if x>0 else 0 for x in percentage_malicious_bots]\n",
    "    \n",
    "    columns = ['states','density','total_site_users','percentage_bots','percentage_humans','percentage_friendly_bots','percentage_malicious_bots']\n",
    "    return pd.DataFrame(data=zip(states,density,total_site_users_list,percentage_bots,percentage_humans,percentage_friendly_bots,percentage_malicious_bots), columns=columns) \n",
    "\n",
    "res = getMapData()\n",
    " "
   ]
  },
  {
   "cell_type": "code",
   "execution_count": null,
   "metadata": {},
   "outputs": [],
   "source": []
  }
 ],
 "metadata": {
  "interpreter": {
   "hash": "e4abcd27c1b37494262f17a81aca66206f02c4180b9397e92552f3d8b0960bb9"
  },
  "kernelspec": {
   "display_name": "Python 3.8.0 64-bit",
   "language": "python",
   "name": "python3"
  },
  "language_info": {
   "codemirror_mode": {
    "name": "ipython",
    "version": 3
   },
   "file_extension": ".py",
   "mimetype": "text/x-python",
   "name": "python",
   "nbconvert_exporter": "python",
   "pygments_lexer": "ipython3",
   "version": "3.8.0"
  },
  "orig_nbformat": 4
 },
 "nbformat": 4,
 "nbformat_minor": 2
}
